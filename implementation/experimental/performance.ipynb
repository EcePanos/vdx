{
 "cells": [
  {
   "cell_type": "code",
   "execution_count": 1,
   "id": "3b39bc79-3181-4b7d-9469-8082083fe48c",
   "metadata": {},
   "outputs": [],
   "source": [
    "import vdx\n",
    "import time"
   ]
  },
  {
   "cell_type": "code",
   "execution_count": 2,
   "id": "ffd0ef04-1c85-44bb-9cb9-0fecae8a9880",
   "metadata": {},
   "outputs": [],
   "source": [
    "input = [0.9, 1.0, 1.1]\n",
    "weights = [0.9, 0.9, 0.9]"
   ]
  },
  {
   "cell_type": "code",
   "execution_count": 3,
   "id": "81a63158-2abd-415a-8e45-04db4998f298",
   "metadata": {},
   "outputs": [],
   "source": [
    "def mlv(input, weights, margin):\n",
    "    deltas = []\n",
    "    for i in range(len(input)):\n",
    "        delta = []\n",
    "        for y in range(len(input)):\n",
    "            if i != y:\n",
    "                k = abs(input[i] - input[y])\n",
    "                # round k to the nearest 0.1\n",
    "                k = round(k * 100) / 100\n",
    "                #print(k)\n",
    "                if k <= margin:\n",
    "                    delta.append(weights[i])\n",
    "                else:\n",
    "                    p = (1-weights[i])/(len(input) - 1)\n",
    "                    p = round(p * 100) / 100\n",
    "                    delta.append(p)\n",
    "            #print(delta)\n",
    "        # append the product of the deltas to the deltas list\n",
    "        product = 1\n",
    "        for item in delta:\n",
    "            product *= item\n",
    "            product = round(product * 100) / 100\n",
    "        deltas.append(product)\n",
    "    # find the index of the largest delta\n",
    "    #print(deltas)\n",
    "    index = deltas.index(max(deltas))\n",
    "    # return the input at the index\n",
    "    return input[index]"
   ]
  },
  {
   "cell_type": "code",
   "execution_count": 5,
   "id": "a6e28d4a-20dc-4c62-924b-79e786435526",
   "metadata": {},
   "outputs": [
    {
     "name": "stdout",
     "output_type": "stream",
     "text": [
      "done in 4.032844066619873 seconds\n"
     ]
    }
   ],
   "source": [
    "result1 = []\n",
    "start = time.time() \n",
    "for i in range(1000000):\n",
    "    p = mlv(input, weights, 0.1)\n",
    "    result1.append(p)\n",
    "end = time.time()\n",
    "print(\"done in \" + str(end - start) + \" seconds\")"
   ]
  },
  {
   "cell_type": "code",
   "execution_count": 6,
   "id": "20a39cdf-9237-4bc6-b8fb-48ce550b6a27",
   "metadata": {},
   "outputs": [
    {
     "name": "stdout",
     "output_type": "stream",
     "text": [
      "done in 1.6403329372406006 seconds\n"
     ]
    }
   ],
   "source": [
    "result2 = []\n",
    "start = time.time()\n",
    "for i in range(1000000):\n",
    "    p = vdx.weighted_average(input, weights)\n",
    "    p = vdx.nearest_neighbor(p, input)\n",
    "    result2.append(p)\n",
    "end = time.time()\n",
    "print(\"done in \" + str(end - start) + \" seconds\")"
   ]
  },
  {
   "cell_type": "code",
   "execution_count": 7,
   "id": "08c893f4-54e9-4ef1-ac47-30e70c273e52",
   "metadata": {},
   "outputs": [
    {
     "name": "stdout",
     "output_type": "stream",
     "text": [
      "done in 3.045283317565918 seconds\n"
     ]
    }
   ],
   "source": [
    "result3 = []\n",
    "start = time.time()\n",
    "for i in range(1000000):\n",
    "    p = vdx.majority_voting_bootstrapping(input, 0.1)\n",
    "    p = vdx.nearest_neighbor(p, input)\n",
    "    result3.append(p)\n",
    "end = time.time()\n",
    "print(\"done in \" + str(end - start) + \" seconds\")"
   ]
  },
  {
   "cell_type": "code",
   "execution_count": null,
   "id": "2a363ad0-445a-4512-899c-cc5234793605",
   "metadata": {},
   "outputs": [],
   "source": []
  }
 ],
 "metadata": {
  "kernelspec": {
   "display_name": "Python 3",
   "language": "python",
   "name": "python3"
  },
  "language_info": {
   "codemirror_mode": {
    "name": "ipython",
    "version": 3
   },
   "file_extension": ".py",
   "mimetype": "text/x-python",
   "name": "python",
   "nbconvert_exporter": "python",
   "pygments_lexer": "ipython3",
   "version": "3.10.6 (main, Nov 14 2022, 16:10:14) [GCC 11.3.0]"
  },
  "vscode": {
   "interpreter": {
    "hash": "e7370f93d1d0cde622a1f8e1c04877d8463912d04d973331ad4851f04de6915a"
   }
  }
 },
 "nbformat": 4,
 "nbformat_minor": 5
}
