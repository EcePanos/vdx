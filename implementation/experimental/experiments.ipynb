{
 "cells": [
  {
   "cell_type": "markdown",
   "id": "b25f02f2-4c38-4285-ab3b-df0ba83742f0",
   "metadata": {},
   "source": [
    "# Experiements with voting algorithms"
   ]
  },
  {
   "cell_type": "markdown",
   "id": "c9338fcb-4664-44bb-9c16-bae9fbc22fdc",
   "metadata": {},
   "source": [
    "## 1. Maximum Likelihood Voting vs Weighted Average vs Approximate Majority Voting on data with given confidence"
   ]
  },
  {
   "cell_type": "markdown",
   "id": "3b4b40b6-1119-48ea-943d-450f34e4acbd",
   "metadata": {},
   "source": [
    "We use a sample of 3 values, each with a given confidence level. This simulates the way output from a machine learning model could possibly be weighted. We vote to select the most likely value using three algorithms:\n",
    "- Maximum likelihood voting\n",
    "- Weighted average voting, using the confidence as weights\n",
    "- Approximate Majority Voting, ignoring the confidence scores\n",
    "\n",
    "The last 2 methods are implemented using VDX. We compare the selected value and execution time for 1 million iterations."
   ]
  },
  {
   "cell_type": "code",
   "execution_count": 1,
   "id": "3b39bc79-3181-4b7d-9469-8082083fe48c",
   "metadata": {},
   "outputs": [],
   "source": [
    "import vdx\n",
    "import time"
   ]
  },
  {
   "cell_type": "code",
   "execution_count": 2,
   "id": "ffd0ef04-1c85-44bb-9cb9-0fecae8a9880",
   "metadata": {},
   "outputs": [],
   "source": [
    "input = [0.9, 1.0, 1.1]\n",
    "weights = [0.9, 0.9, 0.9]"
   ]
  },
  {
   "cell_type": "code",
   "execution_count": 3,
   "id": "81a63158-2abd-415a-8e45-04db4998f298",
   "metadata": {},
   "outputs": [],
   "source": [
    "def mlv(input, weights, margin):\n",
    "    deltas = []\n",
    "    for i in range(len(input)):\n",
    "        delta = []\n",
    "        for y in range(len(input)):\n",
    "            if i != y:\n",
    "                k = abs(input[i] - input[y])\n",
    "                # round k to the nearest 0.1\n",
    "                k = round(k * 100) / 100\n",
    "                #print(k)\n",
    "                if k <= margin:\n",
    "                    delta.append(weights[i])\n",
    "                else:\n",
    "                    p = (1-weights[i])/(len(input) - 1)\n",
    "                    p = round(p * 100) / 100\n",
    "                    delta.append(p)\n",
    "            #print(delta)\n",
    "        # append the product of the deltas to the deltas list\n",
    "        product = 1\n",
    "        for item in delta:\n",
    "            product *= item\n",
    "            product = round(product * 100) / 100\n",
    "        deltas.append(product)\n",
    "    # find the index of the largest delta\n",
    "    #print(deltas)\n",
    "    index = deltas.index(max(deltas))\n",
    "    # return the input at the index\n",
    "    return input[index]"
   ]
  },
  {
   "cell_type": "code",
   "execution_count": 5,
   "id": "a6e28d4a-20dc-4c62-924b-79e786435526",
   "metadata": {},
   "outputs": [
    {
     "name": "stdout",
     "output_type": "stream",
     "text": [
      "done in 4.032844066619873 seconds\n"
     ]
    }
   ],
   "source": [
    "result1 = []\n",
    "start = time.time() \n",
    "for i in range(1000000):\n",
    "    p = mlv(input, weights, 0.1)\n",
    "    result1.append(p)\n",
    "end = time.time()\n",
    "print(\"done in \" + str(end - start) + \" seconds\")"
   ]
  },
  {
   "cell_type": "code",
   "execution_count": 6,
   "id": "20a39cdf-9237-4bc6-b8fb-48ce550b6a27",
   "metadata": {},
   "outputs": [
    {
     "name": "stdout",
     "output_type": "stream",
     "text": [
      "done in 1.6403329372406006 seconds\n"
     ]
    }
   ],
   "source": [
    "result2 = []\n",
    "start = time.time()\n",
    "for i in range(1000000):\n",
    "    p = vdx.weighted_average(input, weights)\n",
    "    p = vdx.nearest_neighbor(p, input)\n",
    "    result2.append(p)\n",
    "end = time.time()\n",
    "print(\"done in \" + str(end - start) + \" seconds\")"
   ]
  },
  {
   "cell_type": "code",
   "execution_count": 7,
   "id": "08c893f4-54e9-4ef1-ac47-30e70c273e52",
   "metadata": {},
   "outputs": [
    {
     "name": "stdout",
     "output_type": "stream",
     "text": [
      "done in 3.045283317565918 seconds\n"
     ]
    }
   ],
   "source": [
    "result3 = []\n",
    "start = time.time()\n",
    "for i in range(1000000):\n",
    "    p = vdx.majority_voting_bootstrapping(input, 0.1)\n",
    "    p = vdx.nearest_neighbor(p, input)\n",
    "    result3.append(p)\n",
    "end = time.time()\n",
    "print(\"done in \" + str(end - start) + \" seconds\")"
   ]
  },
  {
   "cell_type": "markdown",
   "id": "594e84a4-a759-457a-8253-3d6df1024852",
   "metadata": {},
   "source": [
    "One interesting observation is that MLV prioritises the agreements between values, whereas the weighted average voting prioritises the weights. In other words, the value with the highest total weight would win the vote for the weighted vote, while a majority agreement would win the MLV vote, even if the sum of confidence scores is less than that of a smaller group of values."
   ]
  },
  {
   "cell_type": "markdown",
   "id": "d0c10ff4-9af6-47f3-89d7-6764948b3aad",
   "metadata": {},
   "source": [
    "## 2. Meanshift clustering vs Approximate Majority Voting vs X-Means clustering on multidimensional data"
   ]
  },
  {
   "cell_type": "markdown",
   "id": "884d49d1-82e9-4eb1-88ed-edb03714f32a",
   "metadata": {},
   "source": [
    "We use multidimensional samples to compare 3 algorithms for selecting the optimal data point.\n",
    "- Meanshift clustering, where we select the value closest to the centroid of the biggest cluster\n",
    "- Approximate Majority Voting on each dimension separately. We essentially compute the center of mass of the sample and select the closest point.\n",
    "- X-Means clustering, where we select the value closest to the centroid of the biggest cluster"
   ]
  },
  {
   "cell_type": "code",
   "execution_count": 8,
   "id": "46f88e9e-b3c3-4cae-a47e-9e92de051911",
   "metadata": {},
   "outputs": [],
   "source": [
    "from sklearn.cluster import MeanShift\n",
    "from pyclustering.cluster.xmeans import xmeans\n",
    "from pyclustering.cluster.center_initializer import kmeans_plusplus_initializer\n",
    "import numpy as np\n",
    "import vdx\n",
    "import time\n",
    "import math\n",
    "\n",
    "X = np.array([[1, 1, 2, 3,1, 1, 2, 3], [2, 1, 4, 2,1, 1, 2, 3], [1, 0, 1, 1,1, 1, 2, 3],\n",
    "              [4, 7, 1, 3,1, 1, 2, 3], [3, 5, 2, 2,1, 1, 2, 3], [1, 1, 5, 6,1, 1, 2, 3],\n",
    "               [2, 1, 0, 6,1, 1, 2, 3], [1, 0, 4, 4,1, 1, 2, 3],\n",
    "              [4, 7, 1, 1,1, 1, 2, 3], [3, 5, 2, 2,1, 1, 2, 3]])"
   ]
  },
  {
   "cell_type": "code",
   "execution_count": 9,
   "id": "37b36673-73a2-4c7a-a6dc-22947c2cbef9",
   "metadata": {},
   "outputs": [
    {
     "name": "stdout",
     "output_type": "stream",
     "text": [
      "[4 7 1 3 1 1 2 3]\n",
      "done in 7.204146146774292 seconds\n"
     ]
    }
   ],
   "source": [
    "start = time.time()\n",
    "for t in range(1000):\n",
    "    clustering = MeanShift(bandwidth=2).fit(X)\n",
    "    #print(clustering.labels_)\n",
    "    # find the number of points in each cluster\n",
    "    counts = np.bincount(clustering.labels_)\n",
    "    #print(counts)\n",
    "    # find the index of the max element in the counts array\n",
    "    index = np.argmax(counts)\n",
    "    #print(index)\n",
    "    # find the center of the cluster with the max index\n",
    "    center = clustering.cluster_centers_[index]\n",
    "    #print(center)\n",
    "    # find the point in X that is closest to the center\n",
    "    closest = np.argmin(np.linalg.norm(X - center, axis=1))\n",
    "print(X[closest])\n",
    "end = time.time()\n",
    "print(\"done in \" + str(end - start) + \" seconds\")"
   ]
  },
  {
   "cell_type": "code",
   "execution_count": 10,
   "id": "2ba18260-1f79-4a63-bb9d-f6ee65f1c187",
   "metadata": {},
   "outputs": [
    {
     "name": "stdout",
     "output_type": "stream",
     "text": [
      "[1 1 2 3 1 1 2 3]\n",
      "done in 0.17012286186218262 seconds\n"
     ]
    }
   ],
   "source": [
    "start = time.time()\n",
    "for t in range(1000):\n",
    "    output = []\n",
    "    for i in range(len(X[0])):\n",
    "        input = []\n",
    "        for j in range(len(X)):\n",
    "            input.append(X[j][i])\n",
    "        #print(\"input: \" + str(input))\n",
    "        error = 0.1\n",
    "        vote = vdx.majority_voting_bootstrapping(input, error)\n",
    "        vote = vdx.nearest_neighbor(vote, input)\n",
    "        output.append(vote)\n",
    "# find the point in X that is closest to the center\n",
    "closest = np.argmin(np.linalg.norm(X - output, axis=1))\n",
    "print(X[closest])\n",
    "end = time.time()\n",
    "print(\"done in \" + str(end - start) + \" seconds\")"
   ]
  },
  {
   "cell_type": "code",
   "execution_count": 11,
   "id": "92f10ea9-f30a-47a7-96a7-1fd22653cdc3",
   "metadata": {},
   "outputs": [
    {
     "name": "stdout",
     "output_type": "stream",
     "text": [
      "[1 1 2 3 1 1 2 3]\n",
      "done in 0.7453997135162354 seconds\n"
     ]
    }
   ],
   "source": [
    "sample = np.array([[1, 1, 2, 3,1, 1, 2, 3], [2, 1, 4, 2,1, 1, 2, 3], [1, 0, 1, 1,1, 1, 2, 3],\n",
    "              [4, 7, 1, 3,1, 1, 2, 3], [3, 5, 2, 2,1, 1, 2, 3], [1, 1, 5, 6,1, 1, 2, 3],\n",
    "               [2, 1, 0, 6,1, 1, 2, 3], [1, 0, 4, 4,1, 1, 2, 3],\n",
    "              [4, 7, 1, 1,1, 1, 2, 3], [3, 5, 2, 2,1, 1, 2, 3]])\n",
    "#print(sample)\n",
    "# Prepare initial centers - amount of initial centers defines amount of clusters from which X-Means will\n",
    "# start analysis.\n",
    "start = time.time()\n",
    "for t in range(1000):\n",
    "    amount_initial_centers = 2\n",
    "    initial_centers = kmeans_plusplus_initializer(sample, amount_initial_centers).initialize()\n",
    "    # Create instance of X-Means algorithm. The algorithm will start analysis from 2 clusters, the maximum\n",
    "    # number of clusters that can be allocated is 20.\n",
    "    xmeans_instance = xmeans(sample, initial_centers, 20)\n",
    "    xmeans_instance.process()\n",
    "    # Extract clustering results: clusters and their centers\n",
    "    clusters = xmeans_instance.get_clusters()\n",
    "    #print(clusters)\n",
    "    centers = xmeans_instance.get_centers()\n",
    "    #print(centers)\n",
    "    # Get the index of the cluster with the most points\n",
    "    \n",
    "    max_length = 0\n",
    "    max_index = 0\n",
    "    for i in range(len(clusters)):\n",
    "        if len(clusters[i]) > max_length:\n",
    "            max_length = len(clusters[i])\n",
    "            max_index = i\n",
    "    # Get the center of the cluster with the most points\n",
    "    center = centers[max_index]\n",
    "    #print(center)\n",
    "    min_distance = math.inf\n",
    "    # Get the index of the point in the sample that is closest to the center\n",
    "    for i in range(len(clusters[max_index])):\n",
    "        distance = math.dist(sample[clusters[max_index][i]], center)\n",
    "        if distance < min_distance:\n",
    "            min_distance = distance\n",
    "            min_index = clusters[max_index][i]\n",
    "print(sample[min_index])\n",
    "\n",
    "end = time.time()\n",
    "print(\"done in \" + str(end - start) + \" seconds\")"
   ]
  },
  {
   "cell_type": "markdown",
   "id": "8d265d4e-2cfd-4dd2-88ef-0c905cebd6f1",
   "metadata": {},
   "source": [
    "We observe a great difference in performance between the algorithms. Interestingly, meanshift disagrees with the other 2 on the output."
   ]
  },
  {
   "cell_type": "code",
   "execution_count": null,
   "id": "4181277c-957a-430e-afbd-6e7880c59fab",
   "metadata": {},
   "outputs": [],
   "source": []
  }
 ],
 "metadata": {
  "kernelspec": {
   "display_name": "Python 3.10.4 64-bit",
   "language": "python",
   "name": "python3"
  },
  "language_info": {
   "codemirror_mode": {
    "name": "ipython",
    "version": 3
   },
   "file_extension": ".py",
   "mimetype": "text/x-python",
   "name": "python",
   "nbconvert_exporter": "python",
   "pygments_lexer": "ipython3",
   "version": "3.10.6"
  },
  "vscode": {
   "interpreter": {
    "hash": "e7370f93d1d0cde622a1f8e1c04877d8463912d04d973331ad4851f04de6915a"
   }
  }
 },
 "nbformat": 4,
 "nbformat_minor": 5
}
